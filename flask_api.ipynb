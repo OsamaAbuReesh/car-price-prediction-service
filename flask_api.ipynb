{
 "cells": [
  {
   "cell_type": "code",
   "execution_count": 35,
   "metadata": {},
   "outputs": [],
   "source": [
    "from flask import Flask, request, jsonify\n",
    "import pandas as pd\n",
    "import numpy as np\n",
    "from sklearn.neighbors import KNeighborsRegressor\n",
    "from sklearn.impute import SimpleImputer\n",
    "import numpy as np\n",
    "import pandas as pd\n",
    "from flask import Flask, jsonify, request\n",
    "import warnings\n",
    "warnings.filterwarnings(\"ignore\", category=UserWarning, module=\"sklearn\")\n",
    "from flask import Flask, request, jsonify\n",
    "import pandas as pd\n",
    "import numpy as np\n",
    "import pickle"
   ]
  },
  {
   "cell_type": "code",
   "execution_count": 36,
   "metadata": {},
   "outputs": [],
   "source": [
    "cleaned_df = pd.read_csv('./cleaned_car_data.csv')\n",
    "cleaned_df = cleaned_df.drop(['Name'], axis=1)\n",
    "df_numeric = cleaned_df.dropna()"
   ]
  },
  {
   "cell_type": "code",
   "execution_count": 37,
   "metadata": {},
   "outputs": [
    {
     "name": "stdout",
     "output_type": "stream",
     "text": [
      " * Serving Flask app '__main__'\n",
      " * Debug mode: off\n"
     ]
    },
    {
     "name": "stderr",
     "output_type": "stream",
     "text": [
      "WARNING: This is a development server. Do not use it in a production deployment. Use a production WSGI server instead.\n",
      " * Running on http://127.0.0.1:5000\n",
      "Press CTRL+C to quit\n"
     ]
    },
    {
     "name": "stderr",
     "output_type": "stream",
     "text": [
      "127.0.0.1 - - [09/Dec/2023 23:52:20] \"POST /predict HTTP/1.1\" 200 -\n"
     ]
    }
   ],
   "source": [
    "app = Flask(__name__)\n",
    "\n",
    "X = df_numeric.drop('Price', axis=1)\n",
    "y = df_numeric['Price']\n",
    "\n",
    "imputer = SimpleImputer(strategy='mean', add_indicator=False)\n",
    "\n",
    "try:\n",
    "    with open('./Pickles/knn_model.pkl', 'rb') as file:\n",
    "        knn_model = pickle.load(file)\n",
    "        \n",
    "except FileNotFoundError:\n",
    "\n",
    "    X_imputed = pd.DataFrame(imputer.fit_transform(X), columns=X.columns)\n",
    "    knn_model = KNeighborsRegressor(n_neighbors=1, algorithm='auto', metric='minkowski', metric_params=None, leaf_size=30, p=2, n_jobs=None)\n",
    "    knn_model.fit(X_imputed, y)\n",
    "    \n",
    "    with open('knn_model.pkl', 'wb') as file:\n",
    "        pickle.dump(knn_model, file)\n",
    "\n",
    "@app.route('/predict', methods=['POST'])\n",
    "def predict():\n",
    "    try:\n",
    "        data = request.get_json(force=True)\n",
    "\n",
    "        if 'features' in data and isinstance(data['features'], dict):\n",
    "            features_dict = data['features']\n",
    "\n",
    "            features_ordered = [features_dict.get(feature, np.nan) for feature in X.columns]\n",
    "            features_df = pd.DataFrame([features_ordered])\n",
    "\n",
    "            X_imputed = pd.DataFrame(imputer.fit_transform(X), columns=X.columns)\n",
    "            features_df_imputed = pd.DataFrame(imputer.transform(features_df), columns=features_df.columns)\n",
    "\n",
    "\n",
    "            knn_prediction_normalized = knn_model.predict(features_df_imputed)\n",
    "            knn_prediction_original = knn_prediction_normalized * (y.max() - y.min()) + y.min()\n",
    "            \n",
    "            \n",
    "            return jsonify({'prediction': knn_prediction_original.tolist()})\n",
    "        else:\n",
    "            return jsonify({'error': 'Invalid or missing \"features\" data in the request'}), 400\n",
    "        \n",
    "    except Exception as e:\n",
    "        print(f\"An error occurred: {str(e)}\")\n",
    "        return jsonify({'error': 'Internal Server Error'}), 500\n",
    "    \n",
    "if __name__ == '__main__':\n",
    "    app.run(port=5000)\n"
   ]
  },
  {
   "cell_type": "code",
   "execution_count": null,
   "metadata": {},
   "outputs": [],
   "source": []
  }
 ],
 "metadata": {
  "kernelspec": {
   "display_name": "Python 3",
   "language": "python",
   "name": "python3"
  },
  "language_info": {
   "codemirror_mode": {
    "name": "ipython",
    "version": 3
   },
   "file_extension": ".py",
   "mimetype": "text/x-python",
   "name": "python",
   "nbconvert_exporter": "python",
   "pygments_lexer": "ipython3",
   "version": "3.11.5"
  }
 },
 "nbformat": 4,
 "nbformat_minor": 2
}
